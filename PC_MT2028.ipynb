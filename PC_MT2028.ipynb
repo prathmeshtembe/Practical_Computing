{
 "cells": [
  {
   "cell_type": "code",
   "execution_count": 1,
   "id": "611179ae",
   "metadata": {},
   "outputs": [],
   "source": [
    "import math\n",
    "import numpy as np"
   ]
  },
  {
   "cell_type": "markdown",
   "id": "877eb8d0",
   "metadata": {},
   "source": [
    "### Write a simple, short program to calculate and print area of one of the biggest faces and volume of a rectangular cuboid with the dimensions given below. Use functions and loops if required(When length=30cm)"
   ]
  },
  {
   "cell_type": "code",
   "execution_count": 2,
   "id": "0fd90c9a",
   "metadata": {},
   "outputs": [
    {
     "name": "stdout",
     "output_type": "stream",
     "text": [
      "Volume of the cuboid is  9000 cm3\n",
      "Area of one of the biggest faces is  600 cm²\n"
     ]
    }
   ],
   "source": [
    "l=30 #lenght\n",
    "b=20 #breadth\n",
    "h=15 #height\n",
    "volume=l*b*h\n",
    "a = l*b\n",
    "b = b*h\n",
    "c = h*l\n",
    "def maximum(a, b, c):\n",
    "    list = [a, b, c]\n",
    "    return max(list)\n",
    "\n",
    "print(\"Volume of the cuboid is \", volume,\"cm3\")\n",
    "print(\"Area of one of the biggest faces is \", maximum(a, b, c),\"cm²\")"
   ]
  },
  {
   "cell_type": "markdown",
   "id": "5cc816d6",
   "metadata": {},
   "source": [
    "### Write a simple, short program to calculate and print area of one of the biggest faces and volume of a rectangular cuboid with the dimensions given below. Use functions and loops if required(When length=40cm)"
   ]
  },
  {
   "cell_type": "code",
   "execution_count": 3,
   "id": "51be8a4a",
   "metadata": {},
   "outputs": [
    {
     "name": "stdout",
     "output_type": "stream",
     "text": [
      "Volume of the cuboid is  12000 cm3\n",
      "Area of one of the biggest faces is  800 cm²\n"
     ]
    }
   ],
   "source": [
    "l=40 #lenght\n",
    "b=20 #breadth\n",
    "h=15 #height\n",
    "volume=l*b*h\n",
    "a = l*b\n",
    "b = b*h\n",
    "c = h*l\n",
    "def maximum(a, b, c):\n",
    "    list = [a, b, c]\n",
    "    return max(list)\n",
    "\n",
    "print(\"Volume of the cuboid is \", volume,\"cm3\")\n",
    "print(\"Area of one of the biggest faces is \", maximum(a, b, c),\"cm²\")"
   ]
  },
  {
   "cell_type": "markdown",
   "id": "8cd1668a",
   "metadata": {},
   "source": [
    "### Write a simple, short program to calculate and print area of one of the biggest faces and volume of a rectangular cuboid with the dimensions given below. Use functions and loops if required(When length=50cm)"
   ]
  },
  {
   "cell_type": "code",
   "execution_count": 4,
   "id": "ac285790",
   "metadata": {},
   "outputs": [
    {
     "name": "stdout",
     "output_type": "stream",
     "text": [
      "Volume of the cuboid is  15000 cm3\n",
      "Area of one of the biggest faces is  1000 cm²\n"
     ]
    }
   ],
   "source": [
    "l=50 #lenght\n",
    "b=20 #breadth\n",
    "h=15 #height\n",
    "volume=l*b*h\n",
    "a = l*b\n",
    "b = b*h\n",
    "c = h*l\n",
    "def maximum(a, b, c):\n",
    "    list = [a, b, c]\n",
    "    return max(list)\n",
    "\n",
    "print(\"Volume of the cuboid is \", volume,\"cm3\")\n",
    "print(\"Area of one of the biggest faces is \", maximum(a, b, c),\"cm²\")"
   ]
  },
  {
   "cell_type": "markdown",
   "id": "8afebf24",
   "metadata": {},
   "source": [
    "## Unit test"
   ]
  },
  {
   "cell_type": "raw",
   "id": "ffebca02",
   "metadata": {},
   "source": [
    "Unit testing is a software testing method by which individual units of source code are put under various tests to determine whether they are fit for use. It determines and ascertains the quality of your code.\n",
    "The unit test framework in Python is called unittest, which comes packaged with Python.\n",
    "\n",
    "Unit testing makes your code future proof since you anticipate the cases where your code could potentially fail or produce a bug. Though you cannot predict all of the cases, you still address most of them.\n",
    "\n",
    "You have just seen two types of tests:\n",
    "\n",
    "An integration test checks that components in your application operate with each other.\n",
    "A unit test checks a small component in your application.\n",
    "\n",
    "Passing a test\n",
    "Here’s a typical scenario for writing tests:\n",
    "\n",
    "First you need to create a test file. Then import the unittest module, define the testing class that inherits from unittest.TestCase, and lastly, write a series of methods to test all the cases of your function’s behavior.\n",
    "\n",
    "Failing a test\n",
    "To show you what a failing test looks like I’m going to modify a  formatted_name() function by including a new middle name argument.\n",
    "\n",
    "In the output you will see information that will tell you all you need to know where the test fails:\n",
    "\n",
    "First item in the output is the Error telling you that at least one test in test case resulted in an error.\n",
    "Next you’ll see the file and method in which the error occurred.\n",
    "After that you will see the line in which the error occurred.\n",
    "And what kind of error it is, in this case we are missing 1 argument “middle_name”.\n",
    "You will also see the number of run tests, the time needed for the tests to  complete, and a textual message that represents the status of the tests with number of errors that occurred"
   ]
  },
  {
   "cell_type": "code",
   "execution_count": null,
   "id": "61da76cd",
   "metadata": {},
   "outputs": [],
   "source": []
  },
  {
   "cell_type": "markdown",
   "id": "897c5c53",
   "metadata": {},
   "source": [
    "## Profiling modules in Python "
   ]
  },
  {
   "cell_type": "raw",
   "id": "cef379b4",
   "metadata": {},
   "source": [
    "Python provides many excellent modules to measure the statistics of a program. The first step toward a fast implementation of a program is profiling to find out where your code spends its time. The key point is to only optimize functions that are actually slow or are called extensively. Profilers can collect several types of information: timing, function calls, interruptions, cache faults… In our case, we are going to focus our attention on timing and function calls.\n",
    "\n",
    "Types of profiling:\n",
    "\n",
    "Deterministic Profiling: All events are monitored. It provides accurate information but has a big impact on performance. It means the code run slower under profiling. Its use in production systems is often impractical. This type of profiling is suitable for small functions.\n",
    "\n",
    "Statistical profiling: Sampling the execution state at regular intervals to compute indicators. This method is less accurate, but it also reduces the overhead.\n",
    "\n",
    "Python comes with two modules for deterministic profiling: cProfile and profile. Both are different implementations of the same interface. The former is a C extension with relatively small overhead, and the latter is a pure Python module. As the official documentation says, the module profile would be suitable when we want to extend the profiler in some way. Otherwise, cProfile is preferred for long-running programs. Unfortunately, there is no built-in module for statistical profiling, but we will see some external packages for it."
   ]
  }
 ],
 "metadata": {
  "kernelspec": {
   "display_name": "Python 3",
   "language": "python",
   "name": "python3"
  },
  "language_info": {
   "codemirror_mode": {
    "name": "ipython",
    "version": 3
   },
   "file_extension": ".py",
   "mimetype": "text/x-python",
   "name": "python",
   "nbconvert_exporter": "python",
   "pygments_lexer": "ipython3",
   "version": "3.8.8"
  }
 },
 "nbformat": 4,
 "nbformat_minor": 5
}
